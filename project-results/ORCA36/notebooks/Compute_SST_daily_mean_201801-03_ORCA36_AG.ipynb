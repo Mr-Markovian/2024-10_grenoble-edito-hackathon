{
 "cells": [
  {
   "cell_type": "code",
   "execution_count": 1,
   "id": "416cda13-22e6-49f8-8f3d-ec2e4f42e5e5",
   "metadata": {},
   "outputs": [],
   "source": [
    "import xarray as xr\n",
    "import numpy as np\n"
   ]
  },
  {
   "cell_type": "code",
   "execution_count": 2,
   "id": "303f37ea-8c1a-48c4-bc9c-e1c5f4bb3a66",
   "metadata": {},
   "outputs": [],
   "source": [
    "min_lonGS = 15\n",
    "min_latGS = -50\n",
    "max_lonGS = 50\n",
    "max_latGS = -30"
   ]
  },
  {
   "cell_type": "code",
   "execution_count": 3,
   "id": "87bd645a-ec70-4fb0-a1c9-211e192981d6",
   "metadata": {},
   "outputs": [],
   "source": [
    "clf=\"https://s3.waw3-1.cloudferro.com/ORCA36/ORCA36-T426a_1hAV_20180701-20180701_tos.zarr\"\n",
    "ds = xr.open_dataset(clf,engine='zarr')\n",
    "mask_lon = (ds.nav_lon >= min_lonGS) & (ds.nav_lon <= max_lonGS)\n",
    "mask_lat = (ds.nav_lat >= min_latGS) & (ds.nav_lat <= max_latGS)\n",
    "dsGS = ds.where(mask_lon & mask_lat, drop=True)\n",
    "meanSST=dsGS.tos.mean(dim='time_counter')\n",
    "data=meanSST"
   ]
  },
  {
   "cell_type": "code",
   "execution_count": null,
   "id": "c055b0ae-8828-4703-bf2c-a2e3b13c92c3",
   "metadata": {},
   "outputs": [
    {
     "name": "stdout",
     "output_type": "stream",
     "text": [
      "month7\n",
      "day2\n",
      "day3\n",
      "day4\n",
      "day5\n",
      "day6\n",
      "day7\n",
      "day8\n",
      "day9\n",
      "day10\n",
      "day11\n",
      "day12\n",
      "day13\n",
      "day14\n",
      "day15\n"
     ]
    }
   ],
   "source": [
    "for m in np.arange(7,10):\n",
    "    print(\"month\"+str(m))\n",
    "    \n",
    "    if m == 7:\n",
    "        t0=2\n",
    "    else:\n",
    "        t0=1\n",
    "    if m == 7 or m == 8:\n",
    "        tf=31\n",
    "    else:\n",
    "        tf=30\n",
    "    \n",
    "    for t in np.arange(t0,tf+1):\n",
    "        print(\"day\"+str(t))\n",
    "        tt=str(t).zfill(2)\n",
    "        mm=str(m).zfill(2)\n",
    "        clf=\"https://s3.waw3-1.cloudferro.com/ORCA36/ORCA36-T426a_1hAV_2018\"+mm+tt+\"-2018\"+mm+tt+\"_tos.zarr\"\n",
    "        ds = xr.open_dataset(clf,engine='zarr')\n",
    "        mask_lon = (ds.nav_lon >= min_lonGS) & (ds.nav_lon <= max_lonGS)\n",
    "        mask_lat = (ds.nav_lat >= min_latGS) & (ds.nav_lat <= max_latGS)\n",
    "        dsGS = ds.where(mask_lon & mask_lat, drop=True)\n",
    "        meanSST=dsGS.tos.mean(dim='time_counter')\n",
    "        data=xr.concat([data, meanSST], dim=\"time_counter\")"
   ]
  },
  {
   "cell_type": "code",
   "execution_count": null,
   "id": "6abb6f97-587f-4fdb-b339-357972749a55",
   "metadata": {},
   "outputs": [],
   "source": [
    "data"
   ]
  },
  {
   "cell_type": "code",
   "execution_count": null,
   "id": "8efd8930-d152-4df0-8aee-3a19b418b045",
   "metadata": {},
   "outputs": [],
   "source": [
    "dataset=data.to_dataset(name='daily_mean_sst_AG')"
   ]
  },
  {
   "cell_type": "code",
   "execution_count": null,
   "id": "7f2e21e7-1a5b-488f-94ec-8272b3c4d94c",
   "metadata": {},
   "outputs": [],
   "source": [
    "dataset.to_netcdf(path='daily_mean_sst_AG_201807-09.nc',mode='w')\n"
   ]
  },
  {
   "cell_type": "code",
   "execution_count": null,
   "id": "202f1186-90a0-449f-95b6-06e19271c95a",
   "metadata": {},
   "outputs": [],
   "source": []
  }
 ],
 "metadata": {
  "kernelspec": {
   "display_name": "Python 3 (ipykernel)",
   "language": "python",
   "name": "python3"
  },
  "language_info": {
   "codemirror_mode": {
    "name": "ipython",
    "version": 3
   },
   "file_extension": ".py",
   "mimetype": "text/x-python",
   "name": "python",
   "nbconvert_exporter": "python",
   "pygments_lexer": "ipython3",
   "version": "3.11.6"
  }
 },
 "nbformat": 4,
 "nbformat_minor": 5
}
