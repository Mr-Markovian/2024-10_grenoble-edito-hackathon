{
 "cells": [
  {
   "cell_type": "code",
   "execution_count": 1,
   "id": "50749d2e-a3f3-4be9-8ec2-6533a362a799",
   "metadata": {},
   "outputs": [
    {
     "name": "stdout",
     "output_type": "stream",
     "text": [
      "Requirement already satisfied: cartopy in /opt/mamba/lib/python3.11/site-packages (0.23.0)\n",
      "Requirement already satisfied: cmocean in /opt/mamba/lib/python3.11/site-packages (4.0.3)\n",
      "Requirement already satisfied: numpy>=1.21 in /opt/mamba/lib/python3.11/site-packages (from cartopy) (1.26.4)\n",
      "Requirement already satisfied: matplotlib>=3.5 in /opt/mamba/lib/python3.11/site-packages (from cartopy) (3.8.3)\n",
      "Requirement already satisfied: shapely>=1.7 in /opt/mamba/lib/python3.11/site-packages (from cartopy) (2.0.3)\n",
      "Requirement already satisfied: packaging>=20 in /opt/mamba/lib/python3.11/site-packages (from cartopy) (23.2)\n",
      "Requirement already satisfied: pyshp>=2.3 in /opt/mamba/lib/python3.11/site-packages (from cartopy) (2.3.1)\n",
      "Requirement already satisfied: pyproj>=3.3.1 in /opt/mamba/lib/python3.11/site-packages (from cartopy) (3.6.1)\n",
      "Requirement already satisfied: contourpy>=1.0.1 in /opt/mamba/lib/python3.11/site-packages (from matplotlib>=3.5->cartopy) (1.2.1)\n",
      "Requirement already satisfied: cycler>=0.10 in /opt/mamba/lib/python3.11/site-packages (from matplotlib>=3.5->cartopy) (0.12.1)\n",
      "Requirement already satisfied: fonttools>=4.22.0 in /opt/mamba/lib/python3.11/site-packages (from matplotlib>=3.5->cartopy) (4.51.0)\n",
      "Requirement already satisfied: kiwisolver>=1.3.1 in /opt/mamba/lib/python3.11/site-packages (from matplotlib>=3.5->cartopy) (1.4.5)\n",
      "Requirement already satisfied: pillow>=8 in /opt/mamba/lib/python3.11/site-packages (from matplotlib>=3.5->cartopy) (10.3.0)\n",
      "Requirement already satisfied: pyparsing>=2.3.1 in /opt/mamba/lib/python3.11/site-packages (from matplotlib>=3.5->cartopy) (3.1.2)\n",
      "Requirement already satisfied: python-dateutil>=2.7 in /opt/mamba/lib/python3.11/site-packages (from matplotlib>=3.5->cartopy) (2.9.0)\n",
      "Requirement already satisfied: certifi in /opt/mamba/lib/python3.11/site-packages (from pyproj>=3.3.1->cartopy) (2024.2.2)\n",
      "Requirement already satisfied: six>=1.5 in /opt/mamba/lib/python3.11/site-packages (from python-dateutil>=2.7->matplotlib>=3.5->cartopy) (1.16.0)\n",
      "Note: you may need to restart the kernel to use updated packages.\n"
     ]
    }
   ],
   "source": [
    "pip install cartopy cmocean"
   ]
  },
  {
   "cell_type": "code",
   "execution_count": 2,
   "id": "416cda13-22e6-49f8-8f3d-ec2e4f42e5e5",
   "metadata": {},
   "outputs": [
    {
     "name": "stderr",
     "output_type": "stream",
     "text": [
      "ERROR 1: PROJ: proj_create_from_database: Open of /opt/mamba/share/proj failed\n"
     ]
    }
   ],
   "source": [
    "import plotting_functions as pf\n",
    "import xarray as xr\n",
    "import cmocean\n",
    "import numpy as np\n",
    "import matplotlib.pyplot as plt"
   ]
  },
  {
   "cell_type": "code",
   "execution_count": 3,
   "id": "303f37ea-8c1a-48c4-bc9c-e1c5f4bb3a66",
   "metadata": {},
   "outputs": [],
   "source": [
    "min_lonGS = -82\n",
    "min_latGS = 25\n",
    "max_lonGS = -50\n",
    "max_latGS = 43"
   ]
  },
  {
   "cell_type": "code",
   "execution_count": 4,
   "id": "87bd645a-ec70-4fb0-a1c9-211e192981d6",
   "metadata": {},
   "outputs": [],
   "source": [
    "t=1\n",
    "tt=str(t).zfill(2)\n",
    "clf=\"https://s3.waw3-1.cloudferro.com/ORCA36/ORCA36-T426a_1hAV_201801\"+tt+\"-201801\"+tt+\"_tos.zarr\"\n",
    "ds = xr.open_dataset(clf,engine='zarr')\n",
    "mask_lon = (ds.nav_lon >= min_lonGS) & (ds.nav_lon <= max_lonGS)\n",
    "mask_lat = (ds.nav_lat >= min_latGS) & (ds.nav_lat <= max_latGS)\n",
    "dsGS = ds.where(mask_lon & mask_lat, drop=True)\n",
    "meanSST=dsGS.tos.mean(dim='time_counter')\n",
    "data=meanSST"
   ]
  },
  {
   "cell_type": "code",
   "execution_count": 5,
   "id": "c055b0ae-8828-4703-bf2c-a2e3b13c92c3",
   "metadata": {},
   "outputs": [
    {
     "name": "stdout",
     "output_type": "stream",
     "text": [
      "2\n",
      "3\n",
      "4\n",
      "5\n",
      "6\n",
      "7\n",
      "8\n",
      "9\n",
      "10\n"
     ]
    },
    {
     "ename": "KeyboardInterrupt",
     "evalue": "",
     "output_type": "error",
     "traceback": [
      "\u001b[0;31m---------------------------------------------------------------------------\u001b[0m",
      "\u001b[0;31mKeyboardInterrupt\u001b[0m                         Traceback (most recent call last)",
      "Cell \u001b[0;32mIn[5], line 8\u001b[0m\n\u001b[1;32m      6\u001b[0m mask_lon \u001b[38;5;241m=\u001b[39m (ds\u001b[38;5;241m.\u001b[39mnav_lon \u001b[38;5;241m>\u001b[39m\u001b[38;5;241m=\u001b[39m min_lonGS) \u001b[38;5;241m&\u001b[39m (ds\u001b[38;5;241m.\u001b[39mnav_lon \u001b[38;5;241m<\u001b[39m\u001b[38;5;241m=\u001b[39m max_lonGS)\n\u001b[1;32m      7\u001b[0m mask_lat \u001b[38;5;241m=\u001b[39m (ds\u001b[38;5;241m.\u001b[39mnav_lat \u001b[38;5;241m>\u001b[39m\u001b[38;5;241m=\u001b[39m min_latGS) \u001b[38;5;241m&\u001b[39m (ds\u001b[38;5;241m.\u001b[39mnav_lat \u001b[38;5;241m<\u001b[39m\u001b[38;5;241m=\u001b[39m max_latGS)\n\u001b[0;32m----> 8\u001b[0m dsGS \u001b[38;5;241m=\u001b[39m ds\u001b[38;5;241m.\u001b[39mwhere(\u001b[43mmask_lon\u001b[49m\u001b[43m \u001b[49m\u001b[38;5;241;43m&\u001b[39;49m\u001b[43m \u001b[49m\u001b[43mmask_lat\u001b[49m, drop\u001b[38;5;241m=\u001b[39m\u001b[38;5;28;01mTrue\u001b[39;00m)\n\u001b[1;32m      9\u001b[0m meanSST\u001b[38;5;241m=\u001b[39mdsGS\u001b[38;5;241m.\u001b[39mtos\u001b[38;5;241m.\u001b[39mmean(dim\u001b[38;5;241m=\u001b[39m\u001b[38;5;124m'\u001b[39m\u001b[38;5;124mtime_counter\u001b[39m\u001b[38;5;124m'\u001b[39m)\n\u001b[1;32m     10\u001b[0m data\u001b[38;5;241m=\u001b[39mxr\u001b[38;5;241m.\u001b[39mconcat([data, meanSST], dim\u001b[38;5;241m=\u001b[39m\u001b[38;5;124m\"\u001b[39m\u001b[38;5;124mtime_counter\u001b[39m\u001b[38;5;124m\"\u001b[39m)\n",
      "File \u001b[0;32m/opt/mamba/lib/python3.11/site-packages/xarray/core/_typed_ops.py:267\u001b[0m, in \u001b[0;36mDataArrayOpsMixin.__and__\u001b[0;34m(self, other)\u001b[0m\n\u001b[1;32m    266\u001b[0m \u001b[38;5;28;01mdef\u001b[39;00m \u001b[38;5;21m__and__\u001b[39m(\u001b[38;5;28mself\u001b[39m, other: DaCompatible) \u001b[38;5;241m-\u001b[39m\u001b[38;5;241m>\u001b[39m Self:\n\u001b[0;32m--> 267\u001b[0m     \u001b[38;5;28;01mreturn\u001b[39;00m \u001b[38;5;28;43mself\u001b[39;49m\u001b[38;5;241;43m.\u001b[39;49m\u001b[43m_binary_op\u001b[49m\u001b[43m(\u001b[49m\u001b[43mother\u001b[49m\u001b[43m,\u001b[49m\u001b[43m \u001b[49m\u001b[43moperator\u001b[49m\u001b[38;5;241;43m.\u001b[39;49m\u001b[43mand_\u001b[49m\u001b[43m)\u001b[49m\n",
      "File \u001b[0;32m/opt/mamba/lib/python3.11/site-packages/xarray/core/dataarray.py:4704\u001b[0m, in \u001b[0;36mDataArray._binary_op\u001b[0;34m(self, other, f, reflexive)\u001b[0m\n\u001b[1;32m   4697\u001b[0m other_coords \u001b[38;5;241m=\u001b[39m \u001b[38;5;28mgetattr\u001b[39m(other, \u001b[38;5;124m\"\u001b[39m\u001b[38;5;124mcoords\u001b[39m\u001b[38;5;124m\"\u001b[39m, \u001b[38;5;28;01mNone\u001b[39;00m)\n\u001b[1;32m   4699\u001b[0m variable \u001b[38;5;241m=\u001b[39m (\n\u001b[1;32m   4700\u001b[0m     f(\u001b[38;5;28mself\u001b[39m\u001b[38;5;241m.\u001b[39mvariable, other_variable_or_arraylike)\n\u001b[1;32m   4701\u001b[0m     \u001b[38;5;28;01mif\u001b[39;00m \u001b[38;5;129;01mnot\u001b[39;00m reflexive\n\u001b[1;32m   4702\u001b[0m     \u001b[38;5;28;01melse\u001b[39;00m f(other_variable_or_arraylike, \u001b[38;5;28mself\u001b[39m\u001b[38;5;241m.\u001b[39mvariable)\n\u001b[1;32m   4703\u001b[0m )\n\u001b[0;32m-> 4704\u001b[0m coords, indexes \u001b[38;5;241m=\u001b[39m \u001b[38;5;28;43mself\u001b[39;49m\u001b[38;5;241;43m.\u001b[39;49m\u001b[43mcoords\u001b[49m\u001b[38;5;241;43m.\u001b[39;49m\u001b[43m_merge_raw\u001b[49m\u001b[43m(\u001b[49m\u001b[43mother_coords\u001b[49m\u001b[43m,\u001b[49m\u001b[43m \u001b[49m\u001b[43mreflexive\u001b[49m\u001b[43m)\u001b[49m\n\u001b[1;32m   4705\u001b[0m name \u001b[38;5;241m=\u001b[39m \u001b[38;5;28mself\u001b[39m\u001b[38;5;241m.\u001b[39m_result_name(other)\n\u001b[1;32m   4707\u001b[0m \u001b[38;5;28;01mreturn\u001b[39;00m \u001b[38;5;28mself\u001b[39m\u001b[38;5;241m.\u001b[39m_replace(variable, coords, name, indexes\u001b[38;5;241m=\u001b[39mindexes)\n",
      "File \u001b[0;32m/opt/mamba/lib/python3.11/site-packages/xarray/core/coordinates.py:468\u001b[0m, in \u001b[0;36mCoordinates._merge_raw\u001b[0;34m(self, other, reflexive)\u001b[0m\n\u001b[1;32m    466\u001b[0m \u001b[38;5;28;01melse\u001b[39;00m:\n\u001b[1;32m    467\u001b[0m     coord_list \u001b[38;5;241m=\u001b[39m [\u001b[38;5;28mself\u001b[39m, other] \u001b[38;5;28;01mif\u001b[39;00m \u001b[38;5;129;01mnot\u001b[39;00m reflexive \u001b[38;5;28;01melse\u001b[39;00m [other, \u001b[38;5;28mself\u001b[39m]\n\u001b[0;32m--> 468\u001b[0m     variables, indexes \u001b[38;5;241m=\u001b[39m \u001b[43mmerge_coordinates_without_align\u001b[49m\u001b[43m(\u001b[49m\u001b[43mcoord_list\u001b[49m\u001b[43m)\u001b[49m\n\u001b[1;32m    469\u001b[0m \u001b[38;5;28;01mreturn\u001b[39;00m variables, indexes\n",
      "File \u001b[0;32m/opt/mamba/lib/python3.11/site-packages/xarray/core/merge.py:413\u001b[0m, in \u001b[0;36mmerge_coordinates_without_align\u001b[0;34m(objects, prioritized, exclude_dims, combine_attrs)\u001b[0m\n\u001b[1;32m    409\u001b[0m     filtered \u001b[38;5;241m=\u001b[39m collected\n\u001b[1;32m    411\u001b[0m \u001b[38;5;66;03m# TODO: indexes should probably be filtered in collected elements\u001b[39;00m\n\u001b[1;32m    412\u001b[0m \u001b[38;5;66;03m# before merging them\u001b[39;00m\n\u001b[0;32m--> 413\u001b[0m merged_coords, merged_indexes \u001b[38;5;241m=\u001b[39m \u001b[43mmerge_collected\u001b[49m\u001b[43m(\u001b[49m\n\u001b[1;32m    414\u001b[0m \u001b[43m    \u001b[49m\u001b[43mfiltered\u001b[49m\u001b[43m,\u001b[49m\u001b[43m \u001b[49m\u001b[43mprioritized\u001b[49m\u001b[43m,\u001b[49m\u001b[43m \u001b[49m\u001b[43mcombine_attrs\u001b[49m\u001b[38;5;241;43m=\u001b[39;49m\u001b[43mcombine_attrs\u001b[49m\n\u001b[1;32m    415\u001b[0m \u001b[43m\u001b[49m\u001b[43m)\u001b[49m\n\u001b[1;32m    416\u001b[0m merged_indexes \u001b[38;5;241m=\u001b[39m filter_indexes_from_coords(merged_indexes, \u001b[38;5;28mset\u001b[39m(merged_coords))\n\u001b[1;32m    418\u001b[0m \u001b[38;5;28;01mreturn\u001b[39;00m merged_coords, merged_indexes\n",
      "File \u001b[0;32m/opt/mamba/lib/python3.11/site-packages/xarray/core/merge.py:290\u001b[0m, in \u001b[0;36mmerge_collected\u001b[0;34m(grouped, prioritized, compat, combine_attrs, equals)\u001b[0m\n\u001b[1;32m    288\u001b[0m variables \u001b[38;5;241m=\u001b[39m [variable \u001b[38;5;28;01mfor\u001b[39;00m variable, _ \u001b[38;5;129;01min\u001b[39;00m elements_list]\n\u001b[1;32m    289\u001b[0m \u001b[38;5;28;01mtry\u001b[39;00m:\n\u001b[0;32m--> 290\u001b[0m     merged_vars[name] \u001b[38;5;241m=\u001b[39m \u001b[43munique_variable\u001b[49m\u001b[43m(\u001b[49m\n\u001b[1;32m    291\u001b[0m \u001b[43m        \u001b[49m\u001b[43mname\u001b[49m\u001b[43m,\u001b[49m\u001b[43m \u001b[49m\u001b[43mvariables\u001b[49m\u001b[43m,\u001b[49m\u001b[43m \u001b[49m\u001b[43mcompat\u001b[49m\u001b[43m,\u001b[49m\u001b[43m \u001b[49m\u001b[43mequals\u001b[49m\u001b[38;5;241;43m.\u001b[39;49m\u001b[43mget\u001b[49m\u001b[43m(\u001b[49m\u001b[43mname\u001b[49m\u001b[43m,\u001b[49m\u001b[43m \u001b[49m\u001b[38;5;28;43;01mNone\u001b[39;49;00m\u001b[43m)\u001b[49m\n\u001b[1;32m    292\u001b[0m \u001b[43m    \u001b[49m\u001b[43m)\u001b[49m\n\u001b[1;32m    293\u001b[0m \u001b[38;5;28;01mexcept\u001b[39;00m MergeError:\n\u001b[1;32m    294\u001b[0m     \u001b[38;5;28;01mif\u001b[39;00m compat \u001b[38;5;241m!=\u001b[39m \u001b[38;5;124m\"\u001b[39m\u001b[38;5;124mminimal\u001b[39m\u001b[38;5;124m\"\u001b[39m:\n\u001b[1;32m    295\u001b[0m         \u001b[38;5;66;03m# we need more than \"minimal\" compatibility (for which\u001b[39;00m\n\u001b[1;32m    296\u001b[0m         \u001b[38;5;66;03m# we drop conflicting coordinates)\u001b[39;00m\n",
      "File \u001b[0;32m/opt/mamba/lib/python3.11/site-packages/xarray/core/merge.py:139\u001b[0m, in \u001b[0;36munique_variable\u001b[0;34m(name, variables, compat, equals)\u001b[0m\n\u001b[1;32m    137\u001b[0m out \u001b[38;5;241m=\u001b[39m out\u001b[38;5;241m.\u001b[39mcompute()\n\u001b[1;32m    138\u001b[0m \u001b[38;5;28;01mfor\u001b[39;00m var \u001b[38;5;129;01min\u001b[39;00m variables[\u001b[38;5;241m1\u001b[39m:]:\n\u001b[0;32m--> 139\u001b[0m     equals \u001b[38;5;241m=\u001b[39m \u001b[38;5;28;43mgetattr\u001b[39;49m\u001b[43m(\u001b[49m\u001b[43mout\u001b[49m\u001b[43m,\u001b[49m\u001b[43m \u001b[49m\u001b[43mcompat\u001b[49m\u001b[43m)\u001b[49m\u001b[43m(\u001b[49m\u001b[43mvar\u001b[49m\u001b[43m)\u001b[49m\n\u001b[1;32m    140\u001b[0m     \u001b[38;5;28;01mif\u001b[39;00m \u001b[38;5;129;01mnot\u001b[39;00m equals:\n\u001b[1;32m    141\u001b[0m         \u001b[38;5;28;01mbreak\u001b[39;00m\n",
      "File \u001b[0;32m/opt/mamba/lib/python3.11/site-packages/xarray/core/variable.py:1771\u001b[0m, in \u001b[0;36mVariable.broadcast_equals\u001b[0;34m(self, other, equiv)\u001b[0m\n\u001b[1;32m   1769\u001b[0m \u001b[38;5;28;01mexcept\u001b[39;00m (\u001b[38;5;167;01mValueError\u001b[39;00m, \u001b[38;5;167;01mAttributeError\u001b[39;00m):\n\u001b[1;32m   1770\u001b[0m     \u001b[38;5;28;01mreturn\u001b[39;00m \u001b[38;5;28;01mFalse\u001b[39;00m\n\u001b[0;32m-> 1771\u001b[0m \u001b[38;5;28;01mreturn\u001b[39;00m \u001b[38;5;28;43mself\u001b[39;49m\u001b[38;5;241;43m.\u001b[39;49m\u001b[43mequals\u001b[49m\u001b[43m(\u001b[49m\u001b[43mother\u001b[49m\u001b[43m,\u001b[49m\u001b[43m \u001b[49m\u001b[43mequiv\u001b[49m\u001b[38;5;241;43m=\u001b[39;49m\u001b[43mequiv\u001b[49m\u001b[43m)\u001b[49m\n",
      "File \u001b[0;32m/opt/mamba/lib/python3.11/site-packages/xarray/core/variable.py:1755\u001b[0m, in \u001b[0;36mVariable.equals\u001b[0;34m(self, other, equiv)\u001b[0m\n\u001b[1;32m   1752\u001b[0m other \u001b[38;5;241m=\u001b[39m \u001b[38;5;28mgetattr\u001b[39m(other, \u001b[38;5;124m\"\u001b[39m\u001b[38;5;124mvariable\u001b[39m\u001b[38;5;124m\"\u001b[39m, other)\n\u001b[1;32m   1753\u001b[0m \u001b[38;5;28;01mtry\u001b[39;00m:\n\u001b[1;32m   1754\u001b[0m     \u001b[38;5;28;01mreturn\u001b[39;00m \u001b[38;5;28mself\u001b[39m\u001b[38;5;241m.\u001b[39mdims \u001b[38;5;241m==\u001b[39m other\u001b[38;5;241m.\u001b[39mdims \u001b[38;5;129;01mand\u001b[39;00m (\n\u001b[0;32m-> 1755\u001b[0m         \u001b[38;5;28mself\u001b[39m\u001b[38;5;241m.\u001b[39m_data \u001b[38;5;129;01mis\u001b[39;00m other\u001b[38;5;241m.\u001b[39m_data \u001b[38;5;129;01mor\u001b[39;00m \u001b[43mequiv\u001b[49m\u001b[43m(\u001b[49m\u001b[38;5;28;43mself\u001b[39;49m\u001b[38;5;241;43m.\u001b[39;49m\u001b[43mdata\u001b[49m\u001b[43m,\u001b[49m\u001b[43m \u001b[49m\u001b[43mother\u001b[49m\u001b[38;5;241;43m.\u001b[39;49m\u001b[43mdata\u001b[49m\u001b[43m)\u001b[49m\n\u001b[1;32m   1756\u001b[0m     )\n\u001b[1;32m   1757\u001b[0m \u001b[38;5;28;01mexcept\u001b[39;00m (\u001b[38;5;167;01mTypeError\u001b[39;00m, \u001b[38;5;167;01mAttributeError\u001b[39;00m):\n\u001b[1;32m   1758\u001b[0m     \u001b[38;5;28;01mreturn\u001b[39;00m \u001b[38;5;28;01mFalse\u001b[39;00m\n",
      "File \u001b[0;32m/opt/mamba/lib/python3.11/site-packages/xarray/core/duck_array_ops.py:292\u001b[0m, in \u001b[0;36marray_equiv\u001b[0;34m(arr1, arr2)\u001b[0m\n\u001b[1;32m    290\u001b[0m     \u001b[38;5;28;01mwith\u001b[39;00m warnings\u001b[38;5;241m.\u001b[39mcatch_warnings():\n\u001b[1;32m    291\u001b[0m         warnings\u001b[38;5;241m.\u001b[39mfilterwarnings(\u001b[38;5;124m\"\u001b[39m\u001b[38;5;124mignore\u001b[39m\u001b[38;5;124m\"\u001b[39m, \u001b[38;5;124m\"\u001b[39m\u001b[38;5;124mIn the future, \u001b[39m\u001b[38;5;124m'\u001b[39m\u001b[38;5;124mNAT == x\u001b[39m\u001b[38;5;124m'\u001b[39m\u001b[38;5;124m\"\u001b[39m)\n\u001b[0;32m--> 292\u001b[0m         flag_array \u001b[38;5;241m=\u001b[39m (arr1 \u001b[38;5;241m==\u001b[39m arr2) \u001b[38;5;241m|\u001b[39m (isnull(arr1) \u001b[38;5;241m&\u001b[39m \u001b[43misnull\u001b[49m\u001b[43m(\u001b[49m\u001b[43marr2\u001b[49m\u001b[43m)\u001b[49m)\n\u001b[1;32m    293\u001b[0m         \u001b[38;5;28;01mreturn\u001b[39;00m \u001b[38;5;28mbool\u001b[39m(flag_array\u001b[38;5;241m.\u001b[39mall())\n\u001b[1;32m    294\u001b[0m \u001b[38;5;28;01melse\u001b[39;00m:\n",
      "File \u001b[0;32m/opt/mamba/lib/python3.11/site-packages/xarray/core/duck_array_ops.py:153\u001b[0m, in \u001b[0;36misnull\u001b[0;34m(data)\u001b[0m\n\u001b[1;32m    150\u001b[0m \u001b[38;5;28;01melif\u001b[39;00m \u001b[38;5;28missubclass\u001b[39m(scalar_type, np\u001b[38;5;241m.\u001b[39minexact):\n\u001b[1;32m    151\u001b[0m     \u001b[38;5;66;03m# float types use NaN for null\u001b[39;00m\n\u001b[1;32m    152\u001b[0m     xp \u001b[38;5;241m=\u001b[39m get_array_namespace(data)\n\u001b[0;32m--> 153\u001b[0m     \u001b[38;5;28;01mreturn\u001b[39;00m \u001b[43mxp\u001b[49m\u001b[38;5;241;43m.\u001b[39;49m\u001b[43misnan\u001b[49m\u001b[43m(\u001b[49m\u001b[43mdata\u001b[49m\u001b[43m)\u001b[49m\n\u001b[1;32m    154\u001b[0m \u001b[38;5;28;01melif\u001b[39;00m \u001b[38;5;28missubclass\u001b[39m(scalar_type, (np\u001b[38;5;241m.\u001b[39mbool_, np\u001b[38;5;241m.\u001b[39minteger, np\u001b[38;5;241m.\u001b[39mcharacter, np\u001b[38;5;241m.\u001b[39mvoid)):\n\u001b[1;32m    155\u001b[0m     \u001b[38;5;66;03m# these types cannot represent missing values\u001b[39;00m\n\u001b[1;32m    156\u001b[0m     \u001b[38;5;28;01mreturn\u001b[39;00m full_like(data, dtype\u001b[38;5;241m=\u001b[39m\u001b[38;5;28mbool\u001b[39m, fill_value\u001b[38;5;241m=\u001b[39m\u001b[38;5;28;01mFalse\u001b[39;00m)\n",
      "\u001b[0;31mKeyboardInterrupt\u001b[0m: "
     ]
    }
   ],
   "source": [
    "for t in np.arange(2,32):\n",
    "    print(t)\n",
    "    tt=str(t).zfill(2)\n",
    "    clf=\"https://s3.waw3-1.cloudferro.com/ORCA36/ORCA36-T426a_1hAV_201801\"+tt+\"-201801\"+tt+\"_tos.zarr\"\n",
    "    ds = xr.open_dataset(clf,engine='zarr')\n",
    "    mask_lon = (ds.nav_lon >= min_lonGS) & (ds.nav_lon <= max_lonGS)\n",
    "    mask_lat = (ds.nav_lat >= min_latGS) & (ds.nav_lat <= max_latGS)\n",
    "    dsGS = ds.where(mask_lon & mask_lat, drop=True)\n",
    "    meanSST=dsGS.tos.mean(dim='time_counter')\n",
    "    data=xr.concat([data, meanSST], dim=\"time_counter\")"
   ]
  },
  {
   "cell_type": "code",
   "execution_count": null,
   "id": "6abb6f97-587f-4fdb-b339-357972749a55",
   "metadata": {},
   "outputs": [],
   "source": [
    "data"
   ]
  },
  {
   "cell_type": "code",
   "execution_count": null,
   "id": "7e72da87-113c-4310-8fd4-23d34016ae80",
   "metadata": {},
   "outputs": [],
   "source": [
    "pf.map_mean_GS_ORCA36(data.mean(dim='time_counter'),data.nav_lon,data.nav_lat,'Mean sea surface temperature for 2028 January 1st', '°C', 12, 25, cmocean.cm.thermal,\"ORCA36_SST_GS_20180101.png\")\n",
    "\n"
   ]
  },
  {
   "cell_type": "code",
   "execution_count": null,
   "id": "19c47046-87a0-4303-9507-5ed9612cf0ac",
   "metadata": {},
   "outputs": [],
   "source": []
  }
 ],
 "metadata": {
  "kernelspec": {
   "display_name": "Python 3 (ipykernel)",
   "language": "python",
   "name": "python3"
  },
  "language_info": {
   "codemirror_mode": {
    "name": "ipython",
    "version": 3
   },
   "file_extension": ".py",
   "mimetype": "text/x-python",
   "name": "python",
   "nbconvert_exporter": "python",
   "pygments_lexer": "ipython3",
   "version": "3.11.6"
  }
 },
 "nbformat": 4,
 "nbformat_minor": 5
}
