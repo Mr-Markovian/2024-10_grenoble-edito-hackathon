{
 "cells": [
  {
   "cell_type": "code",
   "execution_count": null,
   "id": "44a25ca9-cc68-4f5e-86cd-444cf64856c0",
   "metadata": {},
   "outputs": [],
   "source": [
    "pip install cartopy cmocean\n"
   ]
  },
  {
   "cell_type": "code",
   "execution_count": null,
   "id": "f67bff12-5074-4a11-8647-ca47ff051262",
   "metadata": {},
   "outputs": [],
   "source": [
    "import plotting_functions as pf\n",
    "import xarray as xr\n",
    "import cmocean"
   ]
  },
  {
   "cell_type": "code",
   "execution_count": null,
   "id": "24d2f544-7561-45e3-8894-129ea1ee4930",
   "metadata": {},
   "outputs": [],
   "source": [
    "pf.map_mean_GS_ORCA36(dsGS.tos.mean(dim='time_counter'),dsGS.nav_lon,dsGS.nav_lat,'Mean sea surface temperature for 2028 January 1st', '°C', 15, 30, cmocean.cm.thermal)\n"
   ]
  }
 ],
 "metadata": {
  "kernelspec": {
   "display_name": "Python 3 (ipykernel)",
   "language": "python",
   "name": "python3"
  },
  "language_info": {
   "codemirror_mode": {
    "name": "ipython",
    "version": 3
   },
   "file_extension": ".py",
   "mimetype": "text/x-python",
   "name": "python",
   "nbconvert_exporter": "python",
   "pygments_lexer": "ipython3",
   "version": "3.12.6"
  }
 },
 "nbformat": 4,
 "nbformat_minor": 5
}
