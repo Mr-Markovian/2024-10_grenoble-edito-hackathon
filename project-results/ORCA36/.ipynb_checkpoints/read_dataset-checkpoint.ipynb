{
 "cells": [
  {
   "cell_type": "code",
   "execution_count": null,
   "id": "b671fb3c-d2d2-408a-8558-ac58d92cbe06",
   "metadata": {},
   "outputs": [],
   "source": [
    "# First import the client from pypi"
   ]
  },
  {
   "cell_type": "code",
   "execution_count": null,
   "id": "6e1b2452-d17d-4988-a58e-d9a0b5853e36",
   "metadata": {},
   "outputs": [],
   "source": []
  },
  {
   "cell_type": "code",
   "execution_count": null,
   "id": "bc58cda0-93fd-45f1-b675-d9537ed1f973",
   "metadata": {
    "scrolled": true
   },
   "outputs": [],
   "source": [
    "import copernicus_marine_client as cmc\n",
    "from datetime import datetime\n",
    "import xarray as xr\n",
    "import cdsapi\n",
    "import os\n",
    "import numpy as np\n",
    "import matplotlib.pyplot as plt\n"
   ]
  },
  {
   "cell_type": "code",
   "execution_count": null,
   "id": "4a981705-d74b-4fa2-88d4-fc1f5cd30bdc",
   "metadata": {},
   "outputs": [],
   "source": [
    "# Reading data"
   ]
  },
  {
   "cell_type": "code",
   "execution_count": null,
   "id": "586c03a6-34aa-469c-9fa2-e833a67b14e9",
   "metadata": {},
   "outputs": [],
   "source": [
    "cmc.login()"
   ]
  },
  {
   "cell_type": "code",
   "execution_count": null,
   "id": "d39cf70b-77da-46ea-ba46-07f1633b0aab",
   "metadata": {},
   "outputs": [],
   "source": [
    "query_keywords = [\"Global Ocean OSTIA Sea Surface Temperature and Sea Ice Reprocessed\"]\n",
    "query_result = cmc.describe(contains=query_keywords)\n",
    "query_result"
   ]
  },
  {
   "cell_type": "code",
   "execution_count": null,
   "id": "e32a3e78-46ca-40d6-bd54-1d636582bc7c",
   "metadata": {},
   "outputs": [],
   "source": [
    "query_result = cmc.describe(contains=['Global Ocean OSTIA Sea Surface Temperature and Sea Ice Reprocessed'], include_datasets=True)\n",
    "for product in query_result.get('products'):\n",
    "    for dataset in product.get('datasets'):\n",
    "        print(f\"{dataset.get('dataset_id')} - {dataset.get('dataset_name')}\")"
   ]
  },
  {
   "cell_type": "code",
   "execution_count": null,
   "id": "bd516541-be43-4d4b-9f75-bedc67b9b9ed",
   "metadata": {
    "scrolled": true
   },
   "outputs": [],
   "source": [
    "for product in query_result.get('products'):\n",
    "    for dataset in product.get('datasets'):\n",
    "        if dataset.get('dataset_id') == \"METOFFICE-GLO-SST-L4-REP-OBS-SST\":\n",
    "            chosen_dataset = dataset\n",
    "chosen_dataset "
   ]
  },
  {
   "cell_type": "code",
   "execution_count": null,
   "id": "9768df4d-934f-47d9-a9a9-9f738adc3a63",
   "metadata": {},
   "outputs": [],
   "source": [
    "start_datetime=datetime(2018,1,1)\n",
    "end_datetime=datetime(2018,12,31)\n",
    "test_data=cmc.load_xarray_dataset(\n",
    "    dataset_id=\"METOFFICE-GLO-SST-L4-REP-OBS-SST\", \n",
    "    variables=[\"analysed_sst\"],\n",
    "    minimal_longitude=-170,\n",
    "    maximal_longitude=170,\n",
    "    minimal_latitude=-80,\n",
    "    maximal_latitude=80,\n",
    "    minimal_depth=0.0,\n",
    "    maximal_depth=2.0,\n",
    "    start_datetime=start_datetime,\n",
    "    end_datetime=end_datetime,\n",
    ")"
   ]
  },
  {
   "cell_type": "code",
   "execution_count": null,
   "id": "2486c4e4-94a1-44ae-a2a3-2ce6b179f651",
   "metadata": {
    "scrolled": true
   },
   "outputs": [],
   "source": [
    "test_data.analysed_sst.isel(time=0).plot()"
   ]
  },
  {
   "cell_type": "code",
   "execution_count": null,
   "id": "716aeed3-ec9c-4626-b95e-e5334e6b9d22",
   "metadata": {},
   "outputs": [],
   "source": [
    "# Selecting area"
   ]
  },
  {
   "cell_type": "code",
   "execution_count": null,
   "id": "c0827d68-1fbe-4c74-90e5-a874e9c7fa09",
   "metadata": {},
   "outputs": [],
   "source": [
    "domain=[[20,40,-140,-105],[25,43,-82,-50],[25,45,140,170],[-50,-30,15,50]] # [Lat0,Lat1,Lon0,Lon1]\n",
    "region=(\"California Current\",\"Gulf Stream\",\"Kuroshio Current\",\"Agulhas Current\")"
   ]
  },
  {
   "cell_type": "code",
   "execution_count": null,
   "id": "e7429a93-d49f-48f5-9d8c-f924e76a4603",
   "metadata": {},
   "outputs": [],
   "source": [
    "del lat, lon, poslon, poslat, meanvar, meanstd"
   ]
  },
  {
   "cell_type": "code",
   "execution_count": null,
   "id": "eb60eceb-1643-42c5-9a03-5c74912c6ac9",
   "metadata": {},
   "outputs": [],
   "source": [
    "ireg=1\n",
    "lat0=np.array(domain[ireg][0])\n",
    "lat1=np.array(domain[ireg][1])\n",
    "lon0=np.array(domain[ireg][2])\n",
    "lon1=np.array(domain[ireg][3])\n",
    "\n",
    "lat=test_data.latitude.isel()\n",
    "lon=test_data.longitude.isel()\n",
    "\n",
    "poslat=np.where((lat>=lat0) & (lat<=lat1))\n",
    "poslon=np.where((lon>=lon0) & (lon<=lon1))\n"
   ]
  },
  {
   "cell_type": "code",
   "execution_count": null,
   "id": "a0dc5b3b-9ec1-4608-a5f7-d44ef82c9238",
   "metadata": {},
   "outputs": [],
   "source": [
    "sst=test_data['analysed_sst'][180:273,poslat[0],poslon[0]]-273.15 \n",
    "#summer 180:273\n",
    "#winter 0:90"
   ]
  },
  {
   "cell_type": "code",
   "execution_count": null,
   "id": "d257e2f4-5f69-490b-bfb3-6805501937a0",
   "metadata": {},
   "outputs": [],
   "source": [
    "# Estimation mean, std"
   ]
  },
  {
   "cell_type": "code",
   "execution_count": null,
   "id": "1440bddd-ace6-459e-a31d-44ade991c167",
   "metadata": {},
   "outputs": [],
   "source": [
    "np.shape(sst)"
   ]
  },
  {
   "cell_type": "code",
   "execution_count": null,
   "id": "87dc3cf8-d4f7-4414-9f7f-7be30602844e",
   "metadata": {},
   "outputs": [],
   "source": [
    "meanvar=np.nanmean(sst,axis=0)\n",
    "meanstd=np.nanstd(sst,axis=0)\n"
   ]
  },
  {
   "cell_type": "code",
   "execution_count": null,
   "id": "3c3b7cd1-6086-4784-8667-becd486c711b",
   "metadata": {},
   "outputs": [],
   "source": [
    "# Figure"
   ]
  },
  {
   "cell_type": "code",
   "execution_count": null,
   "id": "f3ad28a3-3254-4532-bdcf-58ad48038ab0",
   "metadata": {},
   "outputs": [],
   "source": [
    "pip install cartopy cmocean"
   ]
  },
  {
   "cell_type": "code",
   "execution_count": null,
   "id": "7c7eace0-5207-40c4-9729-8466df7b793e",
   "metadata": {},
   "outputs": [],
   "source": [
    "import plotting_functions_obs as pf\n",
    "import xarray as xr\n",
    "import cmocean"
   ]
  },
  {
   "cell_type": "code",
   "execution_count": null,
   "id": "b24982ee-aa9c-4712-b911-bbdbf79daec8",
   "metadata": {
    "scrolled": true
   },
   "outputs": [],
   "source": [
    "pf.map_mean_GS_obs(meanvar,lon[poslon[0]],lat[poslat[0]],domain[ireg],'Mean sea surface temperature for 2018 July - September (OSTIA)', '°C', 12, 25, cmocean.cm.thermal,\"OSTIA_SST_CA_20180701-20180930.png\")\n"
   ]
  },
  {
   "cell_type": "code",
   "execution_count": null,
   "id": "2685f662-4b8d-49aa-95e0-e5f62229f4f9",
   "metadata": {},
   "outputs": [],
   "source": [
    "pf.map_mean_GS_obs(meanvar,lon[poslon[0]],lat[poslat[0]],domain[ireg],'Mean sea surface temperature for 2018 July - September (OSTIA)', '°C', 22, 30, cmocean.cm.thermal,\"OSTIA_SST_GS_20180701-20180930.png\")\n"
   ]
  },
  {
   "cell_type": "code",
   "execution_count": null,
   "id": "2f7da21e-627f-4b17-b683-4e52d80083a8",
   "metadata": {},
   "outputs": [],
   "source": [
    "pf.map_mean_GS_obs(meanvar,lon[poslon[0]],lat[poslat[0]],domain[ireg],'Mean sea surface temperature for 2018 July - September (OSTIA)', '°C', 15, 30, cmocean.cm.thermal,\"OSTIA_SST_KU_20180701-20180930.png\")\n"
   ]
  },
  {
   "cell_type": "code",
   "execution_count": null,
   "id": "60e5a55b-e032-4052-a542-fd0eedfdcb83",
   "metadata": {},
   "outputs": [],
   "source": [
    "pf.map_mean_GS_obs(meanvar,lon[poslon[0]],lat[poslat[0]],domain[ireg],'Mean sea surface temperature for 2018 July - September (OSTIA)', '°C', 5, 25, cmocean.cm.thermal,\"OSTIA_SST_AG_20180701-20180930.png\")\n"
   ]
  }
 ],
 "metadata": {
  "kernelspec": {
   "display_name": "Python 3 (ipykernel)",
   "language": "python",
   "name": "python3"
  },
  "language_info": {
   "codemirror_mode": {
    "name": "ipython",
    "version": 3
   },
   "file_extension": ".py",
   "mimetype": "text/x-python",
   "name": "python",
   "nbconvert_exporter": "python",
   "pygments_lexer": "ipython3",
   "version": "3.12.6"
  }
 },
 "nbformat": 4,
 "nbformat_minor": 5
}
