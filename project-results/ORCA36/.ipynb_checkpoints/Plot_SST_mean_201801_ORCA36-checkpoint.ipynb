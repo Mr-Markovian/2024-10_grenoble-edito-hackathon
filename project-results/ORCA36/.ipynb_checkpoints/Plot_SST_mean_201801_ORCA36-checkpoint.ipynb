{
 "cells": [
  {
   "cell_type": "code",
   "execution_count": 1,
   "id": "50749d2e-a3f3-4be9-8ec2-6533a362a799",
   "metadata": {},
   "outputs": [
    {
     "name": "stdout",
     "output_type": "stream",
     "text": [
      "Requirement already satisfied: cartopy in /opt/mamba/lib/python3.11/site-packages (0.23.0)\n",
      "Requirement already satisfied: cmocean in /opt/mamba/lib/python3.11/site-packages (4.0.3)\n",
      "Requirement already satisfied: numpy>=1.21 in /opt/mamba/lib/python3.11/site-packages (from cartopy) (1.26.4)\n",
      "Requirement already satisfied: matplotlib>=3.5 in /opt/mamba/lib/python3.11/site-packages (from cartopy) (3.8.3)\n",
      "Requirement already satisfied: shapely>=1.7 in /opt/mamba/lib/python3.11/site-packages (from cartopy) (2.0.3)\n",
      "Requirement already satisfied: packaging>=20 in /opt/mamba/lib/python3.11/site-packages (from cartopy) (23.2)\n",
      "Requirement already satisfied: pyshp>=2.3 in /opt/mamba/lib/python3.11/site-packages (from cartopy) (2.3.1)\n",
      "Requirement already satisfied: pyproj>=3.3.1 in /opt/mamba/lib/python3.11/site-packages (from cartopy) (3.6.1)\n",
      "Requirement already satisfied: contourpy>=1.0.1 in /opt/mamba/lib/python3.11/site-packages (from matplotlib>=3.5->cartopy) (1.2.1)\n",
      "Requirement already satisfied: cycler>=0.10 in /opt/mamba/lib/python3.11/site-packages (from matplotlib>=3.5->cartopy) (0.12.1)\n",
      "Requirement already satisfied: fonttools>=4.22.0 in /opt/mamba/lib/python3.11/site-packages (from matplotlib>=3.5->cartopy) (4.51.0)\n",
      "Requirement already satisfied: kiwisolver>=1.3.1 in /opt/mamba/lib/python3.11/site-packages (from matplotlib>=3.5->cartopy) (1.4.5)\n",
      "Requirement already satisfied: pillow>=8 in /opt/mamba/lib/python3.11/site-packages (from matplotlib>=3.5->cartopy) (10.3.0)\n",
      "Requirement already satisfied: pyparsing>=2.3.1 in /opt/mamba/lib/python3.11/site-packages (from matplotlib>=3.5->cartopy) (3.1.2)\n",
      "Requirement already satisfied: python-dateutil>=2.7 in /opt/mamba/lib/python3.11/site-packages (from matplotlib>=3.5->cartopy) (2.9.0)\n",
      "Requirement already satisfied: certifi in /opt/mamba/lib/python3.11/site-packages (from pyproj>=3.3.1->cartopy) (2024.2.2)\n",
      "Requirement already satisfied: six>=1.5 in /opt/mamba/lib/python3.11/site-packages (from python-dateutil>=2.7->matplotlib>=3.5->cartopy) (1.16.0)\n",
      "Note: you may need to restart the kernel to use updated packages.\n"
     ]
    }
   ],
   "source": [
    "pip install cartopy cmocean"
   ]
  },
  {
   "cell_type": "code",
   "execution_count": 2,
   "id": "416cda13-22e6-49f8-8f3d-ec2e4f42e5e5",
   "metadata": {},
   "outputs": [
    {
     "name": "stderr",
     "output_type": "stream",
     "text": [
      "ERROR 1: PROJ: proj_create_from_database: Open of /opt/mamba/share/proj failed\n"
     ]
    }
   ],
   "source": [
    "import plotting_functions as pf\n",
    "import xarray as xr\n",
    "import cmocean\n",
    "import numpy as np"
   ]
  },
  {
   "cell_type": "code",
   "execution_count": 3,
   "id": "303f37ea-8c1a-48c4-bc9c-e1c5f4bb3a66",
   "metadata": {},
   "outputs": [],
   "source": [
    "min_lonGS = -82\n",
    "min_latGS = 25\n",
    "max_lonGS = -50\n",
    "max_latGS = 43"
   ]
  },
  {
   "cell_type": "code",
   "execution_count": 4,
   "id": "87bd645a-ec70-4fb0-a1c9-211e192981d6",
   "metadata": {},
   "outputs": [],
   "source": [
    "t=1\n",
    "tt=str(t).zfill(2)\n",
    "clf=\"https://s3.waw3-1.cloudferro.com/ORCA36/ORCA36-T426a_1hAV_201801\"+tt+\"-201801\"+tt+\"_tos.zarr\"\n",
    "ds = xr.open_dataset(clf,engine='zarr')\n",
    "mask_lon = (ds.nav_lon >= min_lonGS) & (ds.nav_lon <= max_lonGS)\n",
    "mask_lat = (ds.nav_lat >= min_latGS) & (ds.nav_lat <= max_latGS)\n",
    "dsGS = ds.where(mask_lon & mask_lat, drop=True)\n",
    "meanSST=dsGS.tos.mean(dim='time_counter')\n",
    "data=meanSST"
   ]
  },
  {
   "cell_type": "code",
   "execution_count": null,
   "id": "c055b0ae-8828-4703-bf2c-a2e3b13c92c3",
   "metadata": {},
   "outputs": [
    {
     "name": "stdout",
     "output_type": "stream",
     "text": [
      "2\n",
      "3\n",
      "4\n",
      "5\n",
      "6\n",
      "7\n",
      "8\n",
      "9\n",
      "10\n",
      "11\n"
     ]
    }
   ],
   "source": [
    "for t in np.arange(2,32):\n",
    "    print(t)\n",
    "    tt=str(t).zfill(2)\n",
    "    clf=\"https://s3.waw3-1.cloudferro.com/ORCA36/ORCA36-T426a_1hAV_201801\"+tt+\"-201801\"+tt+\"_tos.zarr\"\n",
    "    ds = xr.open_dataset(clf,engine='zarr')\n",
    "    mask_lon = (ds.nav_lon >= min_lonGS) & (ds.nav_lon <= max_lonGS)\n",
    "    mask_lat = (ds.nav_lat >= min_latGS) & (ds.nav_lat <= max_latGS)\n",
    "    dsGS = ds.where(mask_lon & mask_lat, drop=True)\n",
    "    meanSST=dsGS.tos.mean(dim='time_counter')\n",
    "    dstot=xr.concat([data, meanSST], dim=\"time_counter\")"
   ]
  },
  {
   "cell_type": "code",
   "execution_count": null,
   "id": "867bca20-157d-4696-85d8-96b2ca879bc7",
   "metadata": {},
   "outputs": [],
   "source": [
    "clf2=\"https://s3.waw3-1.cloudferro.com/ORCA36/ORCA36-T426a_1hAV_20180102-20180102_tos.zarr\"\n",
    "ds2 = xr.open_dataset(clf1,engine='zarr')\n",
    "mask_lon = (ds2.nav_lon >= min_lonGS) & (ds2.nav_lon <= max_lonGS)\n",
    "mask_lat = (ds2.nav_lat >= min_latGS) & (ds2.nav_lat <= max_latGS)\n",
    "\n",
    "dsGS2 = ds2.where(mask_lon & mask_lat, drop=True)"
   ]
  },
  {
   "cell_type": "code",
   "execution_count": null,
   "id": "6abb6f97-587f-4fdb-b339-357972749a55",
   "metadata": {},
   "outputs": [],
   "source": [
    "ds=xr.concat([dsGS1, dsGS2], dim=\"time_counter\")"
   ]
  },
  {
   "cell_type": "code",
   "execution_count": null,
   "id": "00064cfa-8f1e-4f03-89a7-237096b52da2",
   "metadata": {},
   "outputs": [],
   "source": [
    "ds"
   ]
  },
  {
   "cell_type": "code",
   "execution_count": null,
   "id": "7e72da87-113c-4310-8fd4-23d34016ae80",
   "metadata": {},
   "outputs": [],
   "source": [
    "pf.map_mean_GS_ORCA36(ds.tos.mean(dim='time_counter'),ds.nav_lon,ds.nav_lat,'Mean sea surface temperature for 2028 January 1st', '°C', 15, 30, cmocean.cm.thermal)\n",
    "\n"
   ]
  },
  {
   "cell_type": "code",
   "execution_count": null,
   "id": "e7433d82-7590-4941-8532-86930b8b184b",
   "metadata": {},
   "outputs": [],
   "source": []
  }
 ],
 "metadata": {
  "kernelspec": {
   "display_name": "Python 3 (ipykernel)",
   "language": "python",
   "name": "python3"
  },
  "language_info": {
   "codemirror_mode": {
    "name": "ipython",
    "version": 3
   },
   "file_extension": ".py",
   "mimetype": "text/x-python",
   "name": "python",
   "nbconvert_exporter": "python",
   "pygments_lexer": "ipython3",
   "version": "3.11.6"
  }
 },
 "nbformat": 4,
 "nbformat_minor": 5
}
