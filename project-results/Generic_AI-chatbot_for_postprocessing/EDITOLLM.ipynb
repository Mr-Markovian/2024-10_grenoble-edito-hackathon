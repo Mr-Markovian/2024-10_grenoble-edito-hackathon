{
 "cells": [
  {
   "cell_type": "markdown",
   "id": "914c9ad7-3c8c-4a29-9e64-d7b65a84f14d",
   "metadata": {},
   "source": [
    "# EDITO / Copernicus LLM (chat bot) for Data Access and Manipulation\n",
    "\n",
    "This Jupyter notebook was created as part of the EDITO / Copernicus project to provide an interface for accessing and manipulating Copernicus data through an LLM (ChatBot). It was developed during a hackathon held on [insert specific hackathon date].\n",
    "\n",
    "## License\n",
    "This notebook is licensed under the Creative Commons Attribution-ShareAlike 4.0 International (CC BY-SA 4.0). You are free to share and adapt the material as long as you provide appropriate credit, indicate if changes were made, and distribute your contributions under the same license. For details, please see the attached LICENSE file or visit [CC BY-SA 4.0 License](https://creativecommons.org/licenses/by-sa/4.0/).\n",
    "\n",
    "## Authors\n",
    "- Eugenio Cutolo - Post-Doc at IMT Atlantique - <eugenio.cutolo@imt-atlantique.fr>\n",
    "- Francois Courteille - Solutions Architect at NVIDIA - <fcourteille@nvidia.com> \n",
    "\n",
    "## Acknowledgments\n",
    "This work was developed during a hackathon and is supported by the EDITO project. Special thanks to the hackathon organizers and participants for their valuable input and collaboration.\n"
   ]
  },
  {
   "cell_type": "markdown",
   "id": "f2b8cbbe-70e8-4307-8335-4970827ca962",
   "metadata": {},
   "source": [
    "## Required software and libraries installation"
   ]
  },
  {
   "cell_type": "markdown",
   "id": "c2637741-ed25-433d-8a01-0d28f0adc5ad",
   "metadata": {},
   "source": [
    "> **Important:**  \n",
    "> To run this notebook, the Ollama server must be installed and running in a separate process.  \n",
    "> Additionally, some language models (LLMs) need to be downloaded and installed beforehand.\n",
    "\n",
    "> Make sure to follow the setup instructions in the documentation. In this example we used llama3.2:3b.\n"
   ]
  },
  {
   "cell_type": "code",
   "execution_count": 1,
   "id": "f2b89dc5-37cd-407a-99df-177ffd7135f6",
   "metadata": {},
   "outputs": [
    {
     "name": "stdout",
     "output_type": "stream",
     "text": [
      ">>> Installing ollama to /usr/local\n",
      ">>> Downloading Linux amd64 bundle\n",
      "######################################################################## 100.0%##O#-#                                                                                        37.0% 55.5%  70.2%\n",
      ">>> Creating ollama user...\n",
      ">>> Adding ollama user to video group...\n",
      ">>> Adding current user to ollama group...\n",
      ">>> Creating ollama systemd service...\n",
      "WARNING: Unable to detect NVIDIA/AMD GPU. Install lspci or lshw to automatically detect and install GPU dependencies.\n",
      ">>> The Ollama API is now available at 127.0.0.1:11434.\n",
      ">>> Install complete. Run \"ollama\" from the command line.\n"
     ]
    }
   ],
   "source": [
    "!curl -fsSL https://ollama.com/install.sh | sh"
   ]
  },
  {
   "cell_type": "code",
   "execution_count": 3,
   "id": "65084010-5f1e-443c-959f-e8fd07470a19",
   "metadata": {
    "scrolled": true
   },
   "outputs": [
    {
     "name": "stdout",
     "output_type": "stream",
     "text": [
      "Requirement already satisfied: ollama in /opt/conda/lib/python3.12/site-packages (0.3.3)\n",
      "Requirement already satisfied: httpx<0.28.0,>=0.27.0 in /opt/conda/lib/python3.12/site-packages (from ollama) (0.27.2)\n",
      "Requirement already satisfied: anyio in /opt/conda/lib/python3.12/site-packages (from httpx<0.28.0,>=0.27.0->ollama) (4.6.0)\n",
      "Requirement already satisfied: certifi in /opt/conda/lib/python3.12/site-packages (from httpx<0.28.0,>=0.27.0->ollama) (2024.8.30)\n",
      "Requirement already satisfied: httpcore==1.* in /opt/conda/lib/python3.12/site-packages (from httpx<0.28.0,>=0.27.0->ollama) (1.0.5)\n",
      "Requirement already satisfied: idna in /opt/conda/lib/python3.12/site-packages (from httpx<0.28.0,>=0.27.0->ollama) (3.10)\n",
      "Requirement already satisfied: sniffio in /opt/conda/lib/python3.12/site-packages (from httpx<0.28.0,>=0.27.0->ollama) (1.3.1)\n",
      "Requirement already satisfied: h11<0.15,>=0.13 in /opt/conda/lib/python3.12/site-packages (from httpcore==1.*->httpx<0.28.0,>=0.27.0->ollama) (0.14.0)\n",
      "Requirement already satisfied: requests in /opt/conda/lib/python3.12/site-packages (2.32.3)\n",
      "Requirement already satisfied: charset-normalizer<4,>=2 in /opt/conda/lib/python3.12/site-packages (from requests) (3.3.2)\n",
      "Requirement already satisfied: idna<4,>=2.5 in /opt/conda/lib/python3.12/site-packages (from requests) (3.10)\n",
      "Requirement already satisfied: urllib3<3,>=1.21.1 in /opt/conda/lib/python3.12/site-packages (from requests) (2.2.3)\n",
      "Requirement already satisfied: certifi>=2017.4.17 in /opt/conda/lib/python3.12/site-packages (from requests) (2024.8.30)\n",
      "Requirement already satisfied: copernicusmarine in /opt/conda/lib/python3.12/site-packages (1.3.3)\n",
      "Requirement already satisfied: aiohttp<3.10.0,>=3.9.4 in /opt/conda/lib/python3.12/site-packages (from copernicusmarine) (3.9.5)\n",
      "Requirement already satisfied: boto3>=1.25 in /opt/conda/lib/python3.12/site-packages (from copernicusmarine) (1.35.23)\n",
      "Requirement already satisfied: cachier>=2.2.1 in /opt/conda/lib/python3.12/site-packages (from copernicusmarine) (3.0.1)\n",
      "Requirement already satisfied: click>=8.0.4 in /opt/conda/lib/python3.12/site-packages (from copernicusmarine) (8.1.7)\n",
      "Requirement already satisfied: dask>=2022 in /opt/conda/lib/python3.12/site-packages (from copernicusmarine) (2024.9.1)\n",
      "Requirement already satisfied: lxml>=4.9.0 in /opt/conda/lib/python3.12/site-packages (from copernicusmarine) (5.3.0)\n",
      "Requirement already satisfied: nest-asyncio>=1.5.8 in /opt/conda/lib/python3.12/site-packages (from copernicusmarine) (1.6.0)\n",
      "Requirement already satisfied: netCDF4>=1.5.4 in /opt/conda/lib/python3.12/site-packages (from copernicusmarine) (1.7.1.post2)\n",
      "Requirement already satisfied: numpy<2.0.0,>=1.23.0 in /opt/conda/lib/python3.12/site-packages (from copernicusmarine) (1.26.4)\n",
      "Requirement already satisfied: pystac>=1.8.3 in /opt/conda/lib/python3.12/site-packages (from copernicusmarine) (1.10.1)\n",
      "Requirement already satisfied: requests>=2.27.1 in /opt/conda/lib/python3.12/site-packages (from copernicusmarine) (2.32.3)\n",
      "Requirement already satisfied: semver>=3.0.2 in /opt/conda/lib/python3.12/site-packages (from copernicusmarine) (3.0.2)\n",
      "Requirement already satisfied: setuptools>=68.2.2 in /opt/conda/lib/python3.12/site-packages (from copernicusmarine) (74.1.2)\n",
      "Requirement already satisfied: tqdm>=4.65.0 in /opt/conda/lib/python3.12/site-packages (from copernicusmarine) (4.66.5)\n",
      "Requirement already satisfied: xarray>=2023.4.0 in /opt/conda/lib/python3.12/site-packages (from copernicusmarine) (2024.9.0)\n",
      "Requirement already satisfied: zarr>=2.13.3 in /opt/conda/lib/python3.12/site-packages (from copernicusmarine) (2.18.3)\n",
      "Requirement already satisfied: aiosignal>=1.1.2 in /opt/conda/lib/python3.12/site-packages (from aiohttp<3.10.0,>=3.9.4->copernicusmarine) (1.3.1)\n",
      "Requirement already satisfied: attrs>=17.3.0 in /opt/conda/lib/python3.12/site-packages (from aiohttp<3.10.0,>=3.9.4->copernicusmarine) (24.2.0)\n",
      "Requirement already satisfied: frozenlist>=1.1.1 in /opt/conda/lib/python3.12/site-packages (from aiohttp<3.10.0,>=3.9.4->copernicusmarine) (1.4.1)\n",
      "Requirement already satisfied: multidict<7.0,>=4.5 in /opt/conda/lib/python3.12/site-packages (from aiohttp<3.10.0,>=3.9.4->copernicusmarine) (6.1.0)\n",
      "Requirement already satisfied: yarl<2.0,>=1.0 in /opt/conda/lib/python3.12/site-packages (from aiohttp<3.10.0,>=3.9.4->copernicusmarine) (1.13.1)\n",
      "Requirement already satisfied: botocore<1.36.0,>=1.35.23 in /opt/conda/lib/python3.12/site-packages (from boto3>=1.25->copernicusmarine) (1.35.23)\n",
      "Requirement already satisfied: jmespath<2.0.0,>=0.7.1 in /opt/conda/lib/python3.12/site-packages (from boto3>=1.25->copernicusmarine) (1.0.1)\n",
      "Requirement already satisfied: s3transfer<0.11.0,>=0.10.0 in /opt/conda/lib/python3.12/site-packages (from boto3>=1.25->copernicusmarine) (0.10.2)\n",
      "Requirement already satisfied: portalocker>=2.3.2 in /opt/conda/lib/python3.12/site-packages (from cachier>=2.2.1->copernicusmarine) (2.10.1)\n",
      "Requirement already satisfied: watchdog>=2.3.1 in /opt/conda/lib/python3.12/site-packages (from cachier>=2.2.1->copernicusmarine) (5.0.3)\n",
      "Requirement already satisfied: cloudpickle>=3.0.0 in /opt/conda/lib/python3.12/site-packages (from dask>=2022->copernicusmarine) (3.0.0)\n",
      "Requirement already satisfied: fsspec>=2021.09.0 in /opt/conda/lib/python3.12/site-packages (from dask>=2022->copernicusmarine) (2024.9.0)\n",
      "Requirement already satisfied: packaging>=20.0 in /opt/conda/lib/python3.12/site-packages (from dask>=2022->copernicusmarine) (24.1)\n",
      "Requirement already satisfied: partd>=1.4.0 in /opt/conda/lib/python3.12/site-packages (from dask>=2022->copernicusmarine) (1.4.2)\n",
      "Requirement already satisfied: pyyaml>=5.3.1 in /opt/conda/lib/python3.12/site-packages (from dask>=2022->copernicusmarine) (6.0.2)\n",
      "Requirement already satisfied: toolz>=0.10.0 in /opt/conda/lib/python3.12/site-packages (from dask>=2022->copernicusmarine) (0.12.1)\n",
      "Requirement already satisfied: cftime in /opt/conda/lib/python3.12/site-packages (from netCDF4>=1.5.4->copernicusmarine) (1.6.4)\n",
      "Requirement already satisfied: certifi in /opt/conda/lib/python3.12/site-packages (from netCDF4>=1.5.4->copernicusmarine) (2024.8.30)\n",
      "Requirement already satisfied: python-dateutil>=2.7.0 in /opt/conda/lib/python3.12/site-packages (from pystac>=1.8.3->copernicusmarine) (2.9.0)\n",
      "Requirement already satisfied: charset-normalizer<4,>=2 in /opt/conda/lib/python3.12/site-packages (from requests>=2.27.1->copernicusmarine) (3.3.2)\n",
      "Requirement already satisfied: idna<4,>=2.5 in /opt/conda/lib/python3.12/site-packages (from requests>=2.27.1->copernicusmarine) (3.10)\n",
      "Requirement already satisfied: urllib3<3,>=1.21.1 in /opt/conda/lib/python3.12/site-packages (from requests>=2.27.1->copernicusmarine) (2.2.3)\n",
      "Requirement already satisfied: pandas>=2.1 in /opt/conda/lib/python3.12/site-packages (from xarray>=2023.4.0->copernicusmarine) (2.2.3)\n",
      "Requirement already satisfied: asciitree in /opt/conda/lib/python3.12/site-packages (from zarr>=2.13.3->copernicusmarine) (0.3.3)\n",
      "Requirement already satisfied: numcodecs>=0.10.0 in /opt/conda/lib/python3.12/site-packages (from zarr>=2.13.3->copernicusmarine) (0.13.0)\n",
      "Requirement already satisfied: fasteners in /opt/conda/lib/python3.12/site-packages (from zarr>=2.13.3->copernicusmarine) (0.19)\n",
      "Requirement already satisfied: pytz>=2020.1 in /opt/conda/lib/python3.12/site-packages (from pandas>=2.1->xarray>=2023.4.0->copernicusmarine) (2024.2)\n",
      "Requirement already satisfied: tzdata>=2022.7 in /opt/conda/lib/python3.12/site-packages (from pandas>=2.1->xarray>=2023.4.0->copernicusmarine) (2024.2)\n",
      "Requirement already satisfied: locket in /opt/conda/lib/python3.12/site-packages (from partd>=1.4.0->dask>=2022->copernicusmarine) (1.0.0)\n",
      "Requirement already satisfied: six>=1.5 in /opt/conda/lib/python3.12/site-packages (from python-dateutil>=2.7.0->pystac>=1.8.3->copernicusmarine) (1.16.0)\n"
     ]
    }
   ],
   "source": [
    "!pip install ollama\n",
    "!pip install requests\n",
    "!pip install copernicusmarine"
   ]
  },
  {
   "cell_type": "markdown",
   "id": "c8f85ad0-3626-4e8d-8e50-ae6e45268465",
   "metadata": {},
   "source": [
    "## Libraries Import"
   ]
  },
  {
   "cell_type": "code",
   "execution_count": null,
   "id": "7e35d98b-4aa6-4ba2-88f5-455e6a2c3b92",
   "metadata": {},
   "outputs": [],
   "source": [
    "import ollama"
   ]
  },
  {
   "cell_type": "code",
   "execution_count": null,
   "id": "34b0aca6-9197-4b8f-a01f-b34448b5e3fa",
   "metadata": {},
   "outputs": [],
   "source": [
    "import xarray as xr\n",
    "import json\n",
    "import numpy as np"
   ]
  },
  {
   "cell_type": "code",
   "execution_count": 4,
   "id": "870df444-72f3-4ba7-ab46-76546cc54722",
   "metadata": {},
   "outputs": [
    {
     "name": "stderr",
     "output_type": "stream",
     "text": [
      "/opt/conda/lib/python3.12/site-packages/tqdm/auto.py:21: TqdmWarning: IProgress not found. Please update jupyter and ipywidgets. See https://ipywidgets.readthedocs.io/en/stable/user_install.html\n",
      "  from .autonotebook import tqdm as notebook_tqdm\n"
     ]
    }
   ],
   "source": [
    "import copernicusmarine"
   ]
  },
  {
   "cell_type": "markdown",
   "id": "2c4a80f3-ded5-4391-89cd-b61f1f0a46a9",
   "metadata": {},
   "source": [
    "## Function Definitions "
   ]
  },
  {
   "cell_type": "code",
   "execution_count": 5,
   "id": "a69bfdc4-1b68-451b-952f-ad7300386ad7",
   "metadata": {},
   "outputs": [],
   "source": [
    "def subset_dataset(file_path, latitude_variable, longitude_variable, latitude_range, longitude_range):\n",
    "    \"\"\"\n",
    "    Extract a subset of a dataset from a NetCDF file based on latitude and longitude ranges.\n",
    "\n",
    "    Parameters:\n",
    "    - file_path: Path to the NetCDF file that contains the dataset.\n",
    "    - latitude_variable: The name of the latitude variable in the dataset.\n",
    "    - longitude_variable: The name of the longitude variable in the dataset.\n",
    "    - latitude_range: A list or tuple containing [min_latitude, max_latitude].\n",
    "    - longitude_range: A list or tuple containing [min_longitude, max_longitude].\n",
    "\n",
    "    Returns:\n",
    "    - A subset of the original dataset limited to the specified latitude and longitude ranges.\n",
    "    \"\"\"\n",
    "    \n",
    "    # Open the dataset using xarray\n",
    "    dataset = xr.open_dataset(file_path)\n",
    "    \n",
    "    # Subset the dataset by latitude and longitude ranges\n",
    "    subset = dataset.where(\n",
    "        (dataset[latitude_variable] >= latitude_range[0]) & \n",
    "        (dataset[latitude_variable] <= latitude_range[1]) &\n",
    "        (dataset[longitude_variable] >= longitude_range[0]) &\n",
    "        (dataset[longitude_variable] <= longitude_range[1]),\n",
    "        drop=True  # Drop any NaN values that result from the selection\n",
    "    )\n",
    "    \n",
    "    return subset"
   ]
  },
  {
   "cell_type": "code",
   "execution_count": 30,
   "id": "7fc59b34-9015-44c3-a9cb-286244913fbd",
   "metadata": {},
   "outputs": [],
   "source": [
    "def find_product_id(region_name,variable_name):\n",
    "    msg = []\n",
    "    msg.append({'role': 'user', 'content':f'Based on this list {COPERNICUS_CATALOG}. Where I can find the {variable_name} for the {region_name}? Just answer with product_id no further text.'})\n",
    "    response = ollama.chat(\n",
    "        model='llama3.2:3b',\n",
    "        messages=msg,\n",
    "    )\n",
    "    output = response['message']['content']\n",
    "    user_response = 'Product available:'+ output\n",
    "    model_response = {\"role\": \"user\", \"content\": 'Now you can proceed to download the product_id:'+output}\n",
    "    return user_response, model_response"
   ]
  },
  {
   "cell_type": "code",
   "execution_count": 54,
   "id": "625a2d98-d235-4a14-998e-a62666801fcb",
   "metadata": {},
   "outputs": [],
   "source": [
    "def download_data(product_id):\n",
    "    user_response = 'Downloading:'+ product_id\n",
    "    model_response = {\"role\": \"user\", \"content\": 'Now you can use the product_id for plotting:'+product_id}\n",
    "    return user_response, model_response"
   ]
  },
  {
   "cell_type": "code",
   "execution_count": 55,
   "id": "83f35870-184d-400b-8a13-9863bbe84334",
   "metadata": {},
   "outputs": [],
   "source": [
    "def plot_data(product_id, latitude_range, longitude_range):\n",
    "    user_response = f'Plotting {product_id} within latitude {latitude_range} and longitude {longitude_range}'\n",
    "    return user_response, None"
   ]
  },
  {
   "cell_type": "code",
   "execution_count": 56,
   "id": "d245a5e0-e226-49ae-8f5a-0733d03d04c2",
   "metadata": {},
   "outputs": [],
   "source": [
    "AVAILABLE_TOOLS = [\n",
    "  {\n",
    "    \"type\": \"function\",\n",
    "    \"function\": {\n",
    "      \"name\": \"find_product_id\",\n",
    "      \"description\": \"Find a product ID based on the geographical region name and variable name.\",\n",
    "      \"parameters\": {\n",
    "        \"type\": \"object\",\n",
    "        \"properties\": {\n",
    "          \"region_name\": {\n",
    "            \"type\": \"string\",\n",
    "            \"description\": \"The name of the geographical region (e.g., 'Arctic', 'Antarctic', 'Baltic Sea').\"\n",
    "          },\n",
    "          \"variable_name\": {\n",
    "            \"type\": \"string\",\n",
    "            \"description\": \"The name of the variable (e.g., 'Sea Ice Extent', 'Sea Surface Temperature').\"\n",
    "          }\n",
    "        },\n",
    "        \"required\": [\"region_name\", \"variable_name\"]\n",
    "      }\n",
    "    }\n",
    "  },\n",
    "  {\n",
    "    \"type\": \"function\",\n",
    "    \"function\": {\n",
    "      \"name\": \"download_data\",\n",
    "      \"description\": \"Download dataset based on the provided product ID.\",\n",
    "      \"parameters\": {\n",
    "        \"type\": \"object\",\n",
    "        \"properties\": {\n",
    "          \"product_id\": {\n",
    "            \"type\": \"string\",\n",
    "            \"description\": \"The ID of the product to download (e.g., 'ARCTIC_OMI_SI_extent').\"\n",
    "          }\n",
    "        },\n",
    "        \"required\": [\"product_id\"]\n",
    "      }\n",
    "    }\n",
    "  },\n",
    "  {\n",
    "    \"type\": \"function\",\n",
    "    \"function\": {\n",
    "      \"name\": \"plot_data\",\n",
    "      \"description\": \"Plot the data for a specific product ID over a given geographical region defined by latitude and longitude range.\",\n",
    "      \"parameters\": {\n",
    "        \"type\": \"object\",\n",
    "        \"properties\": {\n",
    "          \"product_id\": {\n",
    "            \"type\": \"string\",\n",
    "            \"description\": \"The ID of the product to visualize (e.g., 'ARCTIC_OMI_SI_extent').\"\n",
    "          },\n",
    "          \"latitude_range\": {\n",
    "            \"type\": \"array\",\n",
    "            \"items\": {\n",
    "              \"type\": \"number\"\n",
    "            },\n",
    "            \"description\": \"A two-element array defining the minimum and maximum latitudes (e.g., [50, 70]).\"\n",
    "          },\n",
    "          \"longitude_range\": {\n",
    "            \"type\": \"array\",\n",
    "            \"items\": {\n",
    "              \"type\": \"number\"\n",
    "            },\n",
    "            \"description\": \"A two-element array defining the minimum and maximum longitudes (e.g., [-40, 10]).\"\n",
    "          }\n",
    "        },\n",
    "        \"required\": [\"product_id\", \"latitude_range\", \"longitude_range\"]\n",
    "      }\n",
    "    }\n",
    "  }\n",
    "]\n"
   ]
  },
  {
   "cell_type": "code",
   "execution_count": 57,
   "id": "887777b0-4bdb-493b-ae85-f4fd005cfe9c",
   "metadata": {},
   "outputs": [],
   "source": [
    "AVAILABLE_FUNCTIONS = {\n",
    "    'find_product_id': find_product_id,\n",
    "    'download_data': download_data,\n",
    "    'plot_data': plot_data,\n",
    "}"
   ]
  },
  {
   "cell_type": "markdown",
   "id": "8ad66be6-ed49-4e52-ae35-98fc8c4e125d",
   "metadata": {},
   "source": [
    "Downloading the COPERNICUS catalog for products search"
   ]
  },
  {
   "cell_type": "code",
   "execution_count": 58,
   "id": "62ab06bc-5010-4dbe-9bd4-be82eeb97562",
   "metadata": {},
   "outputs": [
    {
     "name": "stderr",
     "output_type": "stream",
     "text": [
      "Fetching catalog: 100%|██████████| 3/3 [00:06<00:00,  2.06s/it]\n"
     ]
    }
   ],
   "source": [
    "COPERNICUS_CATALOG = copernicusmarine.describe(overwrite_metadata_cache=True)\n",
    "COPERNICUS_CATALOG = str([p['product_id']+', Content: '+p['title'] for p in COPERNICUS_CATALOG['products']])"
   ]
  },
  {
   "cell_type": "markdown",
   "id": "fa6ea187-4cc5-44cf-91d7-6c4bf72cb335",
   "metadata": {},
   "source": [
    "## Main Object definition"
   ]
  },
  {
   "cell_type": "code",
   "execution_count": 59,
   "id": "f0478e7c-b38e-4950-b6a0-60b38fc7dc56",
   "metadata": {},
   "outputs": [],
   "source": [
    "class EDITO_BOT:\n",
    "    def __init__(self, model='llama3.2:3b'):\n",
    "        \"\"\"\n",
    "        Initializes the chat manager with model details.\n",
    "        :param model: The model to be used for the Ollama chat.\n",
    "        \"\"\"\n",
    "        self.model = model\n",
    "        self.conversation_history = []\n",
    "\n",
    "    def chat(self, message: str):\n",
    "        \"\"\"\n",
    "        Sends a message to the Ollama API and processes the response.\n",
    "        If the response contains a function call, it executes the corresponding function.\n",
    "        :param message: The message to send to Ollama.\n",
    "        :param available_functions: A dictionary mapping function names to callable functions.\n",
    "        :return: The response from Ollama or the result of a function call.\n",
    "        \"\"\"\n",
    "        # Add user's message to conversation history\n",
    "        self.conversation_history.append({\"role\": \"user\", \"content\": message})\n",
    "\n",
    "        # Prepare the payload for the API call using ollama.chat\n",
    "        response = ollama.chat(\n",
    "            model=self.model,\n",
    "            messages=self.conversation_history,\n",
    "            tools=AVAILABLE_TOOLS  # This will be passed to support tool calls\n",
    "        )\n",
    "\n",
    "        # Check if the response contains a tool call\n",
    "        if response['message'].get('tool_calls'):\n",
    "            \n",
    "            for tool in response['message']['tool_calls']:\n",
    "                function_name = tool['function']['name']\n",
    "                function_args = tool['function']['arguments']\n",
    "                #print(tool)\n",
    "                if function_name in AVAILABLE_FUNCTIONS:\n",
    "                    function_to_call = AVAILABLE_FUNCTIONS[function_name]\n",
    "                    user_response, model_response = function_to_call(**function_args)\n",
    "                    self.conversation_history.append(model_response)\n",
    "                    print(user_response)\n",
    "                else:\n",
    "                    print(f\"Function {function_name} is not available.\")\n",
    "                \n",
    "        else:\n",
    "            # Handle normal message response\n",
    "            reply = response.get(\"message\", \"\")\n",
    "            print(\"EDITO BOT Response:\", reply)\n",
    "            self.conversation_history.append(response)\n",
    "\n",
    "    def get_conversation_history(self):\n",
    "        \"\"\"\n",
    "        Returns the full conversation history.\n",
    "        :return: The list of messages exchanged during the conversation.\n",
    "        \"\"\"\n",
    "        return self.conversation_history\n",
    "\n",
    "    def clear_conversation_history(self):\n",
    "        \"\"\"\n",
    "        Clears the conversation history.\n",
    "        \"\"\"\n",
    "        self.conversation_history = []"
   ]
  },
  {
   "cell_type": "markdown",
   "id": "01eb6517-0436-4d68-9b2a-7f58acc10516",
   "metadata": {},
   "source": [
    "## Bot Test"
   ]
  },
  {
   "cell_type": "code",
   "execution_count": 74,
   "id": "379ef994-2dd3-49ed-b39c-8e80964421ce",
   "metadata": {},
   "outputs": [],
   "source": [
    "ebot = EDITO_BOT()"
   ]
  },
  {
   "cell_type": "code",
   "execution_count": 75,
   "id": "07a40130-4b17-4e35-942e-83822ca15d04",
   "metadata": {},
   "outputs": [
    {
     "name": "stdout",
     "output_type": "stream",
     "text": [
      "Product available:`SST_MED_SST_L3S_NRT_OBSERVATIONS_010_012`, `SST_MED_PHY_SUBSKIN_L4_NRT_010_036`, `SST_MED_SST_L4_NRT_OBSERVATIONS_010_004`, `SST_MED_SST_L4_REP_OBSERVATIONS_010_021`\n"
     ]
    }
   ],
   "source": [
    "ebot.chat(\"Can you find the temperature for the Mediterrenan Sea?\")"
   ]
  },
  {
   "cell_type": "code",
   "execution_count": 76,
   "id": "b7bece06-18bd-43e1-bca7-3afd0160d6bf",
   "metadata": {},
   "outputs": [
    {
     "name": "stdout",
     "output_type": "stream",
     "text": [
      "Product available:`SST_MED_SST_L4_REP_OBSERVATIONS_010_021`\n",
      "Downloading:SST_MED_SST_L3S_NRT_OBSERVATIONS_010_012\n",
      "Downloading:SST_MED_PHY_SUBSKIN_L4_NRT_010_036\n",
      "Downloading:SST_MED_SST_L4_NRT_OBSERVATIONS_010_004\n",
      "Downloading:SST_MED_SST_L4_REP_OBSERVATIONS_010_021\n"
     ]
    }
   ],
   "source": [
    "ebot.chat(\"Can you download them?\")"
   ]
  },
  {
   "cell_type": "code",
   "execution_count": 77,
   "id": "62cad261-74ea-4492-9706-3d5d9020905f",
   "metadata": {},
   "outputs": [
    {
     "name": "stdout",
     "output_type": "stream",
     "text": [
      "Product available:`SST_MED_SST_L3S_NRT_OBSERVATIONS_010_012`, `SST_MED_SST_L4_NRT_OBSERVATIONS_010_004`, `SST_MED_PHY_SUBSKIN_L4_NRT_010_036`, `SST_MED_PHY_L3S_MY_010_042`\n"
     ]
    },
    {
     "ename": "TypeError",
     "evalue": "can only concatenate str (not \"list\") to str",
     "output_type": "error",
     "traceback": [
      "\u001b[0;31m---------------------------------------------------------------------------\u001b[0m",
      "\u001b[0;31mTypeError\u001b[0m                                 Traceback (most recent call last)",
      "Cell \u001b[0;32mIn[77], line 1\u001b[0m\n\u001b[0;32m----> 1\u001b[0m \u001b[43mebot\u001b[49m\u001b[38;5;241;43m.\u001b[39;49m\u001b[43mchat\u001b[49m\u001b[43m(\u001b[49m\u001b[38;5;124;43m\"\u001b[39;49m\u001b[38;5;124;43mCan you plot them within latitude range 40-42 and longitude 1-5?\u001b[39;49m\u001b[38;5;124;43m\"\u001b[39;49m\u001b[43m)\u001b[49m\n",
      "Cell \u001b[0;32mIn[59], line 37\u001b[0m, in \u001b[0;36mEDITO_BOT.chat\u001b[0;34m(self, message)\u001b[0m\n\u001b[1;32m     35\u001b[0m \u001b[38;5;28;01mif\u001b[39;00m function_name \u001b[38;5;129;01min\u001b[39;00m AVAILABLE_FUNCTIONS:\n\u001b[1;32m     36\u001b[0m     function_to_call \u001b[38;5;241m=\u001b[39m AVAILABLE_FUNCTIONS[function_name]\n\u001b[0;32m---> 37\u001b[0m     user_response, model_response \u001b[38;5;241m=\u001b[39m \u001b[43mfunction_to_call\u001b[49m\u001b[43m(\u001b[49m\u001b[38;5;241;43m*\u001b[39;49m\u001b[38;5;241;43m*\u001b[39;49m\u001b[43mfunction_args\u001b[49m\u001b[43m)\u001b[49m\n\u001b[1;32m     38\u001b[0m     \u001b[38;5;28mself\u001b[39m\u001b[38;5;241m.\u001b[39mconversation_history\u001b[38;5;241m.\u001b[39mappend(model_response)\n\u001b[1;32m     39\u001b[0m     \u001b[38;5;28mprint\u001b[39m(user_response)\n",
      "Cell \u001b[0;32mIn[54], line 2\u001b[0m, in \u001b[0;36mdownload_data\u001b[0;34m(product_id)\u001b[0m\n\u001b[1;32m      1\u001b[0m \u001b[38;5;28;01mdef\u001b[39;00m \u001b[38;5;21mdownload_data\u001b[39m(product_id):\n\u001b[0;32m----> 2\u001b[0m     user_response \u001b[38;5;241m=\u001b[39m \u001b[38;5;124;43m'\u001b[39;49m\u001b[38;5;124;43mDownloading:\u001b[39;49m\u001b[38;5;124;43m'\u001b[39;49m\u001b[38;5;241;43m+\u001b[39;49m\u001b[43m \u001b[49m\u001b[43mproduct_id\u001b[49m\n\u001b[1;32m      3\u001b[0m     model_response \u001b[38;5;241m=\u001b[39m {\u001b[38;5;124m\"\u001b[39m\u001b[38;5;124mrole\u001b[39m\u001b[38;5;124m\"\u001b[39m: \u001b[38;5;124m\"\u001b[39m\u001b[38;5;124muser\u001b[39m\u001b[38;5;124m\"\u001b[39m, \u001b[38;5;124m\"\u001b[39m\u001b[38;5;124mcontent\u001b[39m\u001b[38;5;124m\"\u001b[39m: \u001b[38;5;124m'\u001b[39m\u001b[38;5;124mNow you can use the product_id for plotting:\u001b[39m\u001b[38;5;124m'\u001b[39m\u001b[38;5;241m+\u001b[39mproduct_id}\n\u001b[1;32m      4\u001b[0m     \u001b[38;5;28;01mreturn\u001b[39;00m user_response, model_response\n",
      "\u001b[0;31mTypeError\u001b[0m: can only concatenate str (not \"list\") to str"
     ]
    }
   ],
   "source": [
    "ebot.chat(\"Can you plot them within latitude range 40-42 and longitude 1-5?\")"
   ]
  },
  {
   "cell_type": "code",
   "execution_count": null,
   "id": "468cad8f-1ab7-41e3-8593-a0ca40bf613e",
   "metadata": {},
   "outputs": [],
   "source": []
  }
 ],
 "metadata": {
  "kernelspec": {
   "display_name": "Python 3 (ipykernel)",
   "language": "python",
   "name": "python3"
  },
  "language_info": {
   "codemirror_mode": {
    "name": "ipython",
    "version": 3
   },
   "file_extension": ".py",
   "mimetype": "text/x-python",
   "name": "python",
   "nbconvert_exporter": "python",
   "pygments_lexer": "ipython3",
   "version": "3.12.6"
  }
 },
 "nbformat": 4,
 "nbformat_minor": 5
}
