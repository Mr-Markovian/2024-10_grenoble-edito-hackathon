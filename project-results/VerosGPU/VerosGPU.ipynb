{
 "cells": [
  {
   "cell_type": "markdown",
   "id": "8c03c3a9",
   "metadata": {},
   "source": [
    "# Grenoble-EDITO hackathon -- ### Running Veros on the EDITO plateform"
   ]
  },
  {
   "cell_type": "markdown",
   "id": "e4beaf00",
   "metadata": {},
   "source": [
    "##### What is Veros ?\n",
    "Veros is the VERsatile Ocean Simulator. It's a ocean model written all in python with the framework JAX. It's able to run global ocean models and also regional models. JAX is a framework that replace numpy to make python work on GPU with good performances and that allows automatic differentiations. Veros allows to chose a backend in numpy (with a CPU) and JAX (with a GPU)."
   ]
  },
  {
   "cell_type": "markdown",
   "id": "c4ecb42e",
   "metadata": {},
   "source": [
    "##### Expectations from the EDITO plateform\n",
    "We wanted to analyse the computing ressources of the EDITO plateform by runing a 1° global ocean model. We wanted to analyse the possibility of the GPUs of the plateform, and compare it with the performances that we can have on a laptop or a classical cluster."
   ]
  },
  {
   "cell_type": "markdown",
   "id": "3693d9a0",
   "metadata": {},
   "source": [
    "##### Lack of power\n",
    "We worked on the `jupyter-gpu` service of the Datalab with the allocation of 1 GPU. We were able to install JAX and the Veros model on a conda environment. But unfortunately, we couldn't manage to make complex model runs. We tried 1° model, 4° model and north atlantic regional model, and every time the computation crashed on the plateform cause of the lack of computing ressources, whether using CPU or GPU. Maybe because we were a lot connexted at the same time to the plateform."
   ]
  },
  {
   "cell_type": "markdown",
   "id": "3713aab9",
   "metadata": {},
   "source": [
    "##### Idealized ACC model\n",
    "The only experience that achieved to be computed on the plateform is the ACC idealized model from Veros basic cases, cause it's a very light model. After having install python, the command line to load the model is ```veros copy-setup acc``` and to run the model one have to execute ```veros run acc/acc.py``` and ```veros run -b jax --decives gpu acc/acc.py``` to make it run on the GPU."
   ]
  },
  {
   "cell_type": "markdown",
   "id": "3f529231",
   "metadata": {},
   "source": [
    "## Veros as a process on EDITO platform"
   ]
  },
  {
   "cell_type": "markdown",
   "id": "faeb3cb9",
   "metadata": {},
   "source": [
    "The objective was to offer an installed and ready-to-use minimal Veros version on the EDITO platform. It intends to take a Veros config file as input, and run the simulation automatically. The default case run the Veros built-in ACC config as demonstrator.\n",
    "\n",
    "To this end, we created **Veros-demo** process on the playground section of the EDITO platform."
   ]
  },
  {
   "cell_type": "markdown",
   "id": "28b5f24a",
   "metadata": {},
   "source": [
    "### Current state"
   ]
  },
  {
   "cell_type": "markdown",
   "id": "926fc1cd",
   "metadata": {},
   "source": [
    "- Process is created on EDITO platform\n",
    "- Execution instructions of Veros exists in a dedicated repository\n",
    "- Process run the default built-in ACC config only\n",
    "- Input interface exists only in appearance, given inputs won't be used to run Veros with.\n",
    "- Veros outputs are not saved or transfered "
   ]
  },
  {
   "cell_type": "markdown",
   "id": "04029e2c",
   "metadata": {},
   "source": [
    "### Veros docker"
   ]
  },
  {
   "cell_type": "markdown",
   "id": "ec85978c",
   "metadata": {},
   "source": [
    "We followed the tutorial in the documentation to create a new process. Quickly, it implies to containerize the code to execute in a DockerFile that will be uploaded on the platform. Interface between Docker and platform is managed by different .json and .yaml files. \n",
    "\n",
    "Thus, we created the dockerfile with instructions to install Veros and its dependencies, identify the config file and run the code. The Docker contained is stored in a GitHub repository : "
   ]
  },
  {
   "cell_type": "markdown",
   "id": "2c4302b2",
   "metadata": {},
   "source": [
    "https://github.com/alexis-barge/Veros-EDITO/blob/main/deploy/docker/Dockerfile"
   ]
  },
  {
   "cell_type": "markdown",
   "id": "428a03d7",
   "metadata": {},
   "source": [
    "#### Benefits"
   ]
  },
  {
   "cell_type": "markdown",
   "id": "2ddc818b",
   "metadata": {},
   "source": [
    "It appeared handy to work on the content of the Docker in an environment that is independent of the EDITO platform. We were able to set up our own CI workflow with help of GitHub actions, allowing us to keep quality eyes on the content of the code before to publish it on the EDITO platform.\n",
    "We also can manage contributing work outside of the EDITO environment."
   ]
  },
  {
   "cell_type": "markdown",
   "id": "90730b29",
   "metadata": {},
   "source": [
    "#### Difficulties"
   ]
  },
  {
   "cell_type": "markdown",
   "id": "99743c6c",
   "metadata": {},
   "source": [
    ".json and .yaml files appeared to be difficult to understand, surely because we are not familiar with this kind of interface. \n",
    "\n",
    "So far, we took examples on other projects. \n",
    "A more detailed tutorial on how to create simple interface \"buttons\" would have been appreciated."
   ]
  }
 ],
 "metadata": {
  "kernelspec": {
   "display_name": "env-jup",
   "language": "python",
   "name": "env-jup"
  },
  "language_info": {
   "codemirror_mode": {
    "name": "ipython",
    "version": 3
   },
   "file_extension": ".py",
   "mimetype": "text/x-python",
   "name": "python",
   "nbconvert_exporter": "python",
   "pygments_lexer": "ipython3",
   "version": "3.10.13"
  }
 },
 "nbformat": 4,
 "nbformat_minor": 5
}
